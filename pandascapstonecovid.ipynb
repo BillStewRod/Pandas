{
 "cells": [
  {
   "cell_type": "code",
   "execution_count": null,
   "metadata": {},
   "outputs": [],
   "source": [
    "# import pandas library\n",
    "import pandas as pd"
   ]
  },
  {
   "cell_type": "code",
   "execution_count": null,
   "metadata": {},
   "outputs": [],
   "source": [
    "# import pandas and read `covid.csv` file\n",
    "df = pd.read_csv(\"covid.csv\", index_col=0)"
   ]
  },
  {
   "cell_type": "code",
   "execution_count": null,
   "metadata": {},
   "outputs": [],
   "source": [
    "df.info(\"covid.csv\")"
   ]
  },
  {
   "cell_type": "code",
   "execution_count": null,
   "metadata": {},
   "outputs": [],
   "source": [
    "data_types = df.index.dtype\n",
    "print(data_types)"
   ]
  },
  {
   "cell_type": "code",
   "execution_count": null,
   "metadata": {},
   "outputs": [],
   "source": [
    "# find the data types of the columns\n",
    "min_value = df[\"total_cases\"].min()\n",
    "max_value = df[\"total_cases\"].max()\n",
    "\n",
    "# Print the results\n",
    "print(\"The minimum number of cases is\", min_value)\n",
    "print(\"The maximum number of cases is\", max_value)"
   ]
  },
  {
   "cell_type": "code",
   "execution_count": null,
   "metadata": {},
   "outputs": [],
   "source": [
    "# find the total cases of all the countries.\n",
    "\n",
    "# Calculate the total cases\n",
    "total_cases = df[\"total_cases\"].sum()\n",
    "\n",
    "# Print the result\n",
    "print(\"The total number of cases is\", total_cases)"
   ]
  },
  {
   "cell_type": "code",
   "execution_count": null,
   "metadata": {},
   "outputs": [],
   "source": [
    "# find the mean of new cases.\n",
    "mean_per_day = df[\"total_cases\"].mean()\n",
    "\n",
    "# Print the result\n",
    "print(\"The total number of cases is\", total_cases)"
   ]
  },
  {
   "cell_type": "code",
   "execution_count": null,
   "metadata": {},
   "outputs": [],
   "source": [
    "# Selecting values from a Dataframe using indexing.\n",
    "df1 = df[[\"continent\", \"location\"]]\n",
    "\n",
    "# Print the new DataFrame\n",
    "print(df1)"
   ]
  },
  {
   "cell_type": "code",
   "execution_count": null,
   "metadata": {},
   "outputs": [],
   "source": [
    "\n",
    "# Drop below columns from the Dataframe\n",
    "\n",
    "columns_to_drop = ['iso_code', 'new_cases_smoothed', 'new_deaths_smoothed', \n",
    "                   'total_cases_per_million', 'new_cases_per_million', \n",
    "                   'new_cases_smoothed_per_million', 'total_deaths_per_million', \n",
    "                   'new_deaths_per_million', 'new_deaths_smoothed_per_million']\n",
    "\n",
    "df = df.drop(columns=columns_to_drop)"
   ]
  },
  {
   "cell_type": "code",
   "execution_count": null,
   "metadata": {},
   "outputs": [],
   "source": [
    "#  Adding More rows to a Dataframe.\n",
    "\n",
    "new_data = {'continent': ['Africa'], 'location': ['Zimbabwe'], 'date': ['2022-12-07'], \n",
    "            'total_cases': [259356.0], 'new_cases': [192.0], 'total_deaths': [5622.0], \n",
    "            'new_deaths': [2.0], 'population_density': [42.729], 'median_age': [19.6], \n",
    "            'aged_65_older': [2.822], 'aged_70_older': [1.845], 'gdp_per_capita': [1899.767], \n",
    "            'cardiovasc_death_rate': [307.846], 'diabetes_prevalence': [1.85], \n",
    "            'life_expectancy': [61.55], 'population': [16320539.0]}\n",
    "\n",
    "# Create a DataFrame from the new data\n",
    "new_row = pd.DataFrame(new_data)\n",
    "\n",
    "# Add the new row to the existing DataFrame\n",
    "df = pd.concat([df, new_row], ignore_index=True)"
   ]
  },
  {
   "cell_type": "code",
   "execution_count": null,
   "metadata": {},
   "outputs": [],
   "source": [
    "# Updating the value of a specific cell in the COVID-19 dataset.\n",
    "\n",
    "df.at[166620, 'total_cases'] = 259357.0"
   ]
  },
  {
   "cell_type": "code",
   "execution_count": null,
   "metadata": {},
   "outputs": [],
   "source": [
    "# Updating values in a specific column of the COVID-19 dataset.\n",
    "\n",
    "df.at[166618, 'total_cases'] = 259357.0\n",
    "df.at[166619, 'total_cases'] = 259358.0\n"
   ]
  },
  {
   "cell_type": "code",
   "execution_count": null,
   "metadata": {},
   "outputs": [],
   "source": [
    "# Removing Rows from a DataFrame\n",
    "\n",
    "df = df.drop([166619, 166620], axis=0)"
   ]
  },
  {
   "cell_type": "code",
   "execution_count": null,
   "metadata": {},
   "outputs": [],
   "source": [
    "# Using .loc to select rows based on a condition.\n",
    "\n",
    "df_1m = df.loc[df['total_cases'] > 1000000.0]\n"
   ]
  },
  {
   "cell_type": "code",
   "execution_count": null,
   "metadata": {},
   "outputs": [],
   "source": [
    "# Using .iloc to select specific columns and rows.\n",
    "\n",
    "selected_indices = [5168, 5172, 163703]\n",
    "selected_columns = ['total_cases', 'total_deaths']\n",
    "\n",
    "df_cases_death = df.loc[selected_indices, selected_columns]"
   ]
  },
  {
   "cell_type": "code",
   "execution_count": null,
   "metadata": {},
   "outputs": [],
   "source": [
    "# Assuming df is your DataFrame\n",
    "df_sorted = df.sort_values(by='total_cases', ascending=True)\n"
   ]
  },
  {
   "cell_type": "code",
   "execution_count": null,
   "metadata": {},
   "outputs": [],
   "source": [
    "# Sorting COVID-19 data in descending order.\n",
    "\n",
    "df_sorted_desc = df.sort_values(by='total_cases', ascending=False)"
   ]
  },
  {
   "cell_type": "code",
   "execution_count": null,
   "metadata": {},
   "outputs": [],
   "source": [
    "# Sorting COVID-19 data by multiple columns.\n",
    "\n",
    "df_sorted_multi = df.sort_values(by=['total_cases', 'total_deaths'], ascending=[False, True])\n"
   ]
  },
  {
   "cell_type": "code",
   "execution_count": null,
   "metadata": {},
   "outputs": [],
   "source": [
    "# Adding New Columns with Arithmetic Operations.\n",
    "\n",
    "df['total_cases_population_density'] = df['total_cases'] / df['population']\n",
    "\n",
    "print(df)"
   ]
  },
  {
   "cell_type": "code",
   "execution_count": null,
   "metadata": {},
   "outputs": [],
   "source": [
    "# Using Vectorized Operations to Update a Column.\n",
    "\n",
    "df['total_cases_population_density'] = df['total_cases_population_density'] * 1000\n"
   ]
  },
  {
   "cell_type": "code",
   "execution_count": null,
   "metadata": {},
   "outputs": [],
   "source": [
    "# Removing columns with del statement.\n",
    "\n",
    "df = df.drop(columns='total_cases_population_density')"
   ]
  },
  {
   "cell_type": "code",
   "execution_count": null,
   "metadata": {},
   "outputs": [],
   "source": [
    "# Rename the columns.\n",
    "\n",
    "df = df.rename(columns={'total_cases': 'Total Cases', 'total_deaths': 'Total Deaths'})\n"
   ]
  },
  {
   "cell_type": "code",
   "execution_count": null,
   "metadata": {},
   "outputs": [],
   "source": []
  }
 ],
 "metadata": {
  "language_info": {
   "name": "python"
  }
 },
 "nbformat": 4,
 "nbformat_minor": 2
}
